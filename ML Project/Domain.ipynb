{
 "cells": [
  {
   "cell_type": "code",
   "execution_count": 1,
   "metadata": {},
   "outputs": [],
   "source": [
    "# Problem Statement:- \n",
    "# we have customer data\n",
    "# We are trying to predict whether or not to give a Loan"
   ]
  },
  {
   "cell_type": "code",
   "execution_count": 2,
   "metadata": {},
   "outputs": [],
   "source": [
    "#  Banking Knowledge\n",
    "\n",
    "# From Bank Perspective\n",
    "# Asset :- Loan Product (Housing Loan , personal loan, vehicle loan ,credit card etc)\n",
    "\n",
    "# Liability :- Current Ac , Saving Ac , FD , RD\n",
    "\n"
   ]
  },
  {
   "cell_type": "code",
   "execution_count": 1,
   "metadata": {},
   "outputs": [],
   "source": [
    "# NPA = Non Performing Asset ,means the loan that is defaulted\n",
    "# 1. Disbursed Amount = LOAN AMOUNT GIVEN TO CUSTOMER\n",
    "# 2. OSP = OUTSTANDING PRINCIPLE\n",
    "# 3. DPD = Days passed Due\n",
    "# 4. PAR = Portfolio at Risk osp when dpd>0\n",
    "# 5. NPA = Loan account when dpd > 90 days"
   ]
  },
  {
   "cell_type": "code",
   "execution_count": null,
   "metadata": {},
   "outputs": [],
   "source": [
    "# Credit Risk types i Banking\n",
    "\n",
    "# DPD(ZERO) = NDA (NON DELINQUINT ACCOUNT)\n",
    "# DPD(0 TO 30) = SMA1 (STANDARD MONITORING ACCOUNT)\n",
    "# DPD(30 TO 60) = SMA2 (STANDARD MONITORING ACCOUNT)\n",
    "# DPD(60 TO 90) = SMA3 (STANDARD MONITORING ACCOUNT)\n",
    "\n"
   ]
  }
 ],
 "metadata": {
  "kernelspec": {
   "display_name": "Python 3",
   "language": "python",
   "name": "python3"
  },
  "language_info": {
   "codemirror_mode": {
    "name": "ipython",
    "version": 3
   },
   "file_extension": ".py",
   "mimetype": "text/x-python",
   "name": "python",
   "nbconvert_exporter": "python",
   "pygments_lexer": "ipython3",
   "version": "3.11.4"
  }
 },
 "nbformat": 4,
 "nbformat_minor": 2
}
